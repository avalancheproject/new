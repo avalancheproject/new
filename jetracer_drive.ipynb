{
 "cells": [
  {
   "cell_type": "code",
   "execution_count": 1,
   "id": "broad-effects",
   "metadata": {
    "tags": []
   },
   "outputs": [
    {
     "data": {
      "application/vnd.jupyter.widget-view+json": {
       "model_id": "19b3bb6c0fc44ed898747d6bb7f79717",
       "version_major": 2,
       "version_minor": 0
      },
      "text/plain": [
       "Image(value=b'\\xff\\xd8\\xff\\xe0\\x00\\x10JFIF\\x00\\x01\\x01\\x00\\x00\\x01\\x00\\x01\\x00\\x00\\xff\\xdb\\x00C\\x00\\x02\\x01\\x0…"
      ]
     },
     "metadata": {},
     "output_type": "display_data"
    }
   ],
   "source": [
    "from jetcam.csi_camera import CSICamera\n",
    "import ipywidgets\n",
    "from IPython.display import display\n",
    "from jetcam.utils import bgr8_to_jpeg\n",
    "import cv2\n",
    "import numpy as np\n",
    "from jetracer.nvidia_racecar import NvidiaRacecar\n",
    "camera = CSICamera(width=600, height=600)\n",
    "car= NvidiaRacecar()\n",
    "image = camera.read()\n",
    "\n",
    "image_widget = ipywidgets.Image(format='jpeg')\n",
    "\n",
    "image_widget.value = bgr8_to_jpeg(image)\n",
    "display(image_widget)"
   ]
  },
  {
   "cell_type": "code",
   "execution_count": 2,
   "id": "framed-inflation",
   "metadata": {
    "scrolled": true
   },
   "outputs": [
    {
     "ename": "SyntaxError",
     "evalue": "invalid syntax (<ipython-input-2-c30d4bd6022f>, line 91)",
     "output_type": "error",
     "traceback": [
      "\u001b[0;36m  File \u001b[0;32m\"<ipython-input-2-c30d4bd6022f>\"\u001b[0;36m, line \u001b[0;32m91\u001b[0m\n\u001b[0;31m    car.steering = 0.3\u001b[0m\n\u001b[0m      ^\u001b[0m\n\u001b[0;31mSyntaxError\u001b[0m\u001b[0;31m:\u001b[0m invalid syntax\n"
     ]
    }
   ],
   "source": [
    "\n",
    "\n",
    "kernel_size=5\n",
    "low_threshold=50\n",
    "high_threshold=200\n",
    "rho=2\n",
    "theta=np.pi/180\n",
    "threshold=90\n",
    "min_line_len=120\n",
    "max_line_gap=150\n",
    "a=0.8\n",
    "b=1\n",
    "r=0\n",
    "thickness=5\n",
    "def draw_lines(image,lines, color=[255,0,0],thickness=5):\n",
    "        if lines is not None :\n",
    "            for line in lines:\n",
    "                for x1,y1,x2,y2 in line:\n",
    "                    cv2.line(image,(x1, y1), (x2, y2), color, thickness)\n",
    "                \n",
    "            \n",
    "            #return image\n",
    "def hough_lines(image,rho, theta, threshold, min_line_len, max_line_gap):\n",
    "    lines=cv2.HoughLinesP(image,rho,theta,threshold,np.array([]), minLineLength=min_line_len,maxLineGap=max_line_gap)\n",
    "    line_img=np.zeros((image.shape[0], image.shape[1], 3),dtype=np.uint8)\n",
    "    draw_lines(line_img,lines)\n",
    "    \n",
    "    return line_img\n",
    "#masked function\n",
    "def region_of_interest(image,vertices):\n",
    "    mask= np.zeros_like(image)\n",
    "    if len(image.shape) >2:\n",
    "        channel_count = image.shape[2]\n",
    "        ignore_mask_color =(255,)*channel_count\n",
    "    else:\n",
    "        ignore_mask_color=255\n",
    "\n",
    "    cv2.fillPoly(mask,vertices, ignore_mask_color)\n",
    "    masked_image=cv2.bitwise_and(image,mask)\n",
    "    return masked_image\n",
    "\n",
    "\n",
    "\n",
    "\n",
    "\n",
    "camera.running = True\n",
    "#coding\n",
    "def update_image(change):\n",
    "    image = change['new']\n",
    "    \n",
    "    \n",
    "    #이 밑에부터 차선 코딩\n",
    "    image_gray=cv2.cvtColor(image,cv2.COLOR_RGB2GRAY)# gray process\n",
    "    image_gaussian= cv2.GaussianBlur(image_gray,(kernel_size,kernel_size),0)# kernelsize 입력\n",
    "    image_canny=cv2.Canny(image_gaussian,low_threshold,high_threshold)#edge detect\n",
    "    imshape=image.shape\n",
    "    vertices= np.array([[(20,imshape[0]),(250,250),(350,250),(imshape[1]-20,imshape[0])]],dtype=np.int32)\n",
    "    mask=region_of_interest(image_canny,vertices)\n",
    "    lines=hough_lines(mask,rho, theta, threshold, min_line_len, max_line_gap)\n",
    "    x_left=300\n",
    "    x_right=300\n",
    "    radius = 5\n",
    "    x_left = np.round(x_left).astype(\"int\")\n",
    "    x_right = np.round(x_right).astype(\"int\")\n",
    "    radius = np.round(radius).astype(\"int\")\n",
    "    \n",
    "    y=400\n",
    "    while (x_left>0):\n",
    "        x_left=x_left-3\n",
    "        if ((x_left,y)==[255,0,0]):\n",
    "            break\n",
    "    while (x_right<600):\n",
    "        x_right=x_right+3\n",
    "        if((x_right,y)==[255,0,0]):\n",
    "            break\n",
    "    c=(x_left+x_right)/2\n",
    "    c=np.round(c).astype(\"int\")\n",
    "    load_center=((x_left+x_right)/2,y)\n",
    "    camera_center=(300,400)\n",
    "    #load_center=[(x_right+x_left)/2,y] #load center\n",
    "   # camera_center=[224,y] #앞이 x라고 가정 (반대였던거같기도)\n",
    "    #이 점들을 어느 image에 그릴지 정해야됨.\n",
    "    color_camera_center=(255,255,0)# rbg sequence is bgr\n",
    "    color_load_center=(255,255,255)\n",
    "    \n",
    "    thickness=-1\n",
    "    \n",
    "    cv2.circle(lines,(300, 400),3,(255,255,0),-1)#mark the point in the center of the camera yellow\n",
    "    #cv2.circle(lines,(c,400), 3,(255,255,255),-1)#mark the point in the center of load white\n",
    "    \n",
    "    lines_edges=cv2.addWeighted(image,a,lines,b,r)\n",
    "    seta=arctan((load_center-camera_center)/(600-y)\n",
    "    car.steering = 0.3\n",
    "    \n",
    "    image_widget.value = bgr8_to_jpeg(lines_edges)\n",
    "    \n",
    "camera.observe(update_image, names='value')\n"
   ]
  },
  {
   "cell_type": "code",
   "execution_count": null,
   "id": "usual-target",
   "metadata": {},
   "outputs": [],
   "source": []
  },
  {
   "cell_type": "code",
   "execution_count": null,
   "id": "fatal-newfoundland",
   "metadata": {},
   "outputs": [],
   "source": []
  },
  {
   "cell_type": "markdown",
   "id": "efficient-sample",
   "metadata": {},
   "source": []
  },
  {
   "cell_type": "code",
   "execution_count": null,
   "id": "framed-meeting",
   "metadata": {},
   "outputs": [],
   "source": []
  }
 ],
 "metadata": {
  "kernelspec": {
   "display_name": "Python 3",
   "language": "python",
   "name": "python3"
  },
  "language_info": {
   "codemirror_mode": {
    "name": "ipython",
    "version": 3
   },
   "file_extension": ".py",
   "mimetype": "text/x-python",
   "name": "python",
   "nbconvert_exporter": "python",
   "pygments_lexer": "ipython3",
   "version": "3.6.9"
  }
 },
 "nbformat": 4,
 "nbformat_minor": 5
}
